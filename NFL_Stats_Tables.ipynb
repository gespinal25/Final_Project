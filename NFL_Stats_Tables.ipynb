{
 "cells": [
  {
   "cell_type": "code",
   "execution_count": 1,
   "id": "46abf9f7",
   "metadata": {},
   "outputs": [],
   "source": [
    "import pandas as pd"
   ]
  },
  {
   "cell_type": "code",
   "execution_count": 2,
   "id": "4790db01",
   "metadata": {},
   "outputs": [
    {
     "name": "stdout",
     "output_type": "stream",
     "text": [
      "    Rank Team Opp. Record  Opp. Win Pct.\n",
      "0      1  LA    164-125-0          0.567\n",
      "1      2  ARI   157-132-0          0.543\n",
      "2      3  CIN   154-133-2          0.536\n",
      "3      4   TB   154-134-1          0.535\n",
      "4      5   SF   154-135-0          0.533\n",
      "5      5   KC   154-135-0          0.533\n",
      "6      7   LV   152-136-1          0.528\n",
      "7      7   NO   152-136-1          0.528\n",
      "8      9  ATL   151-137-1          0.524\n",
      "9     10  LAC   150-139-0          0.519\n",
      "10    11  SEA   149-139-1          0.517\n",
      "11    12  CAR   147-140-2          0.512\n",
      "12    12  PIT   148-141-0          0.512\n",
      "13    12  BUF   147-140-2          0.512\n",
      "14    15  DEN   147-142-0          0.509\n",
      "15    16   NE   143-144-2          0.498\n",
      "16    17  NYJ   142-145-2          0.495\n",
      "17    17  CLE   142-145-2          0.495\n",
      "18    19  HOU   141-148-0          0.488\n",
      "19    20  MIN   139-148-2          0.484\n",
      "20    21  MIA   138-149-2          0.481\n",
      "21    22   GB   137-150-2          0.478\n",
      "22    23  BAL   136-151-2          0.474\n",
      "23    24  CHI   135-152-2          0.471\n",
      "24    24  TEN   136-153-0          0.471\n",
      "25    26  JAX   135-153-1          0.469\n",
      "26    26  IND   135-153-1          0.469\n",
      "27    28  DET   135-154-0          0.467\n",
      "28    29  NYG   134-154-1          0.465\n",
      "29    30  PHI   133-154-2          0.464\n",
      "30    31  DAL   133-155-1          0.462\n",
      "31    31  WAS   133-155-1          0.462\n"
     ]
    }
   ],
   "source": [
    "sos = pd.read_csv (r'2022 Strength of Schedule_NFL.csv')\n",
    "print (sos)"
   ]
  },
  {
   "cell_type": "code",
   "execution_count": 3,
   "id": "79bf84ce",
   "metadata": {},
   "outputs": [
    {
     "name": "stdout",
     "output_type": "stream",
     "text": [
      "     season conf   division team  wins  losses  ties     pct  div_rank  \\\n",
      "0      2002  AFC   AFC East  BUF     8       8     0  0.5000         4   \n",
      "1      2002  AFC   AFC East  MIA     9       7     0  0.5625         3   \n",
      "2      2002  AFC   AFC East   NE     9       7     0  0.5625         2   \n",
      "3      2002  AFC   AFC East  NYJ     9       7     0  0.5625         1   \n",
      "4      2002  AFC  AFC North  BAL     7       9     0  0.4375         3   \n",
      "..      ...  ...        ...  ...   ...     ...   ...     ...       ...   \n",
      "667    2022  NFC  NFC South   TB     0       0     0  0.5000         4   \n",
      "668    2022  NFC   NFC West  ARI     0       0     0  0.5000         1   \n",
      "669    2022  NFC   NFC West   LA     0       0     0  0.5000         2   \n",
      "670    2022  NFC   NFC West  SEA     0       0     0  0.5000         3   \n",
      "671    2022  NFC   NFC West   SF     0       0     0  0.5000         4   \n",
      "\n",
      "     scored  allowed  net       sov       sos  seed playoff  Unnamed: 16  \n",
      "0       379      397  -18  0.351562  0.472656   NaN     NaN          NaN  \n",
      "1       378      301   77  0.486111  0.507812   NaN     NaN          NaN  \n",
      "2       381      346   35  0.451389  0.523438   NaN     NaN          NaN  \n",
      "3       359      336   23  0.500000  0.500000   4.0  LostDV          NaN  \n",
      "4       316      354  -38  0.383929  0.500000   NaN     NaN          NaN  \n",
      "..      ...      ...  ...       ...       ...   ...     ...          ...  \n",
      "667       0        0    0  0.000000  0.500000   NaN     NaN          NaN  \n",
      "668       0        0    0  0.000000  0.500000   NaN     NaN          NaN  \n",
      "669       0        0    0  0.000000  0.500000   NaN     NaN          NaN  \n",
      "670       0        0    0  0.000000  0.500000   NaN     NaN          NaN  \n",
      "671       0        0    0  0.000000  0.500000   NaN     NaN          NaN  \n",
      "\n",
      "[672 rows x 17 columns]\n"
     ]
    }
   ],
   "source": [
    "stats = pd.read_csv (r'NFL Stats_2002.csv')\n",
    "print (stats)"
   ]
  },
  {
   "cell_type": "code",
   "execution_count": null,
   "id": "23ce41e0",
   "metadata": {},
   "outputs": [],
   "source": []
  }
 ],
 "metadata": {
  "kernelspec": {
   "display_name": "Python 3 (ipykernel)",
   "language": "python",
   "name": "python3"
  },
  "language_info": {
   "codemirror_mode": {
    "name": "ipython",
    "version": 3
   },
   "file_extension": ".py",
   "mimetype": "text/x-python",
   "name": "python",
   "nbconvert_exporter": "python",
   "pygments_lexer": "ipython3",
   "version": "3.7.11"
  }
 },
 "nbformat": 4,
 "nbformat_minor": 5
}
